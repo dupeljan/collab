{
  "nbformat": 4,
  "nbformat_minor": 0,
  "metadata": {
    "colab": {
      "name": "Copy of writing_a_training_loop_from_scratch.ipynb",
      "provenance": [],
      "collapsed_sections": [],
      "toc_visible": true,
      "include_colab_link": true
    },
    "kernelspec": {
      "display_name": "Python 3",
      "name": "python3"
    }
  },
  "cells": [
    {
      "cell_type": "markdown",
      "metadata": {
        "id": "view-in-github",
        "colab_type": "text"
      },
      "source": [
        "<a href=\"https://colab.research.google.com/github/dupeljan/collab/blob/main/Copy_of_writing_a_training_loop_from_scratch.ipynb\" target=\"_parent\"><img src=\"https://colab.research.google.com/assets/colab-badge.svg\" alt=\"Open In Colab\"/></a>"
      ]
    },
    {
      "cell_type": "markdown",
      "metadata": {
        "id": "b518b04cbfe0"
      },
      "source": [
        "##### Copyright 2020 The TensorFlow Authors."
      ]
    },
    {
      "cell_type": "code",
      "metadata": {
        "cellView": "form",
        "id": "906e07f6e562"
      },
      "source": [
        "#@title Licensed under the Apache License, Version 2.0 (the \"License\");\n",
        "# you may not use this file except in compliance with the License.\n",
        "# You may obtain a copy of the License at\n",
        "#\n",
        "# https://www.apache.org/licenses/LICENSE-2.0\n",
        "#\n",
        "# Unless required by applicable law or agreed to in writing, software\n",
        "# distributed under the License is distributed on an \"AS IS\" BASIS,\n",
        "# WITHOUT WARRANTIES OR CONDITIONS OF ANY KIND, either express or implied.\n",
        "# See the License for the specific language governing permissions and\n",
        "# limitations under the License."
      ],
      "execution_count": null,
      "outputs": []
    },
    {
      "cell_type": "markdown",
      "metadata": {
        "id": "daf323e33b84"
      },
      "source": [
        "# Writing a training loop from scratch"
      ]
    },
    {
      "cell_type": "code",
      "metadata": {
        "id": "ae2407ad926f"
      },
      "source": [
        "import tensorflow as tf\n",
        "from tensorflow import keras\n",
        "from tensorflow.keras import layers\n",
        "import numpy as np"
      ],
      "execution_count": 1,
      "outputs": []
    },
    {
      "cell_type": "markdown",
      "metadata": {
        "id": "zk9d-GNcosMi"
      },
      "source": [
        "# Eager mode"
      ]
    },
    {
      "cell_type": "markdown",
      "metadata": {
        "id": "2440f6e0c5ef"
      },
      "source": [
        "<table class=\"tfo-notebook-buttons\" align=\"left\">\n",
        "  <td>\n",
        "    <a target=\"_blank\" href=\"https://www.tensorflow.org/guide/keras/writing_a_training_loop_from_scratch\"><img src=\"https://www.tensorflow.org/images/tf_logo_32px.png\" />View on TensorFlow.org</a>\n",
        "  </td>\n",
        "  <td>\n",
        "    <a target=\"_blank\" href=\"https://colab.research.google.com/github/tensorflow/docs/blob/snapshot-keras/site/en/guide/keras/writing_a_training_loop_from_scratch.ipynb\"><img src=\"https://www.tensorflow.org/images/colab_logo_32px.png\" />Run in Google Colab</a>\n",
        "  </td>\n",
        "  <td>\n",
        "    <a target=\"_blank\" href=\"https://github.com/keras-team/keras-io/blob/master/guides/writing_a_training_loop_from_scratch.py\"><img src=\"https://www.tensorflow.org/images/GitHub-Mark-32px.png\" />View source on GitHub</a>\n",
        "  </td>\n",
        "  <td>\n",
        "    <a href=\"https://storage.googleapis.com/tensorflow_docs/docs/site/en/guide/keras/writing_a_training_loop_from_scratch.ipynb\"><img src=\"https://www.tensorflow.org/images/download_logo_32px.png\" />Download notebook</a>\n",
        "  </td>\n",
        "</table>"
      ]
    },
    {
      "cell_type": "markdown",
      "metadata": {
        "id": "8d4ac441b1fc"
      },
      "source": [
        "## Setup"
      ]
    },
    {
      "cell_type": "markdown",
      "metadata": {
        "id": "0f5a253901f8"
      },
      "source": [
        "## Introduction\n",
        "\n",
        "Keras provides default training and evaluation loops, `fit()` and `evaluate()`.\n",
        "Their usage is covered in the guide\n",
        "[Training & evaluation with the built-in methods](https://www.tensorflow.org/guide/keras/train_and_evaluate/).\n",
        "\n",
        "If you want to customize the learning algorithm of your model while still leveraging\n",
        "the convenience of `fit()`\n",
        "(for instance, to train a GAN using `fit()`), you can subclass the `Model` class and\n",
        "implement your own `train_step()` method, which\n",
        "is called repeatedly during `fit()`. This is covered in the guide\n",
        "[Customizing what happens in `fit()`](https://www.tensorflow.org/guide/keras/customizing_what_happens_in_fit/).\n",
        "\n",
        "Now, if you want very low-level control over training & evaluation, you should write\n",
        "your own training & evaluation loops from scratch. This is what this guide is about."
      ]
    },
    {
      "cell_type": "markdown",
      "metadata": {
        "id": "f4f47351a3ec"
      },
      "source": [
        "## Using the `GradientTape`: a first end-to-end example\n",
        "\n",
        "Calling a model inside a `GradientTape` scope enables you to retrieve the gradients of\n",
        "the trainable weights of the layer with respect to a loss value. Using an optimizer\n",
        "instance, you can use these gradients to update these variables (which you can\n",
        "retrieve using `model.trainable_weights`).\n",
        "\n",
        "Let's consider a simple MNIST model:"
      ]
    },
    {
      "cell_type": "code",
      "metadata": {
        "id": "aaa775ce7dab"
      },
      "source": [
        "inputs = keras.Input(shape=(784,), name=\"digits\")\n",
        "x1 = layers.Dense(64, activation=\"relu\")(inputs)\n",
        "x2 = layers.Dense(64, activation=\"relu\")(x1)\n",
        "outputs = layers.Dense(10, name=\"predictions\")(x2)\n",
        "model = keras.Model(inputs=inputs, outputs=outputs)"
      ],
      "execution_count": 4,
      "outputs": []
    },
    {
      "cell_type": "markdown",
      "metadata": {
        "id": "d8b02a5759cf"
      },
      "source": [
        "Let's train it using mini-batch gradient with a custom training loop.\n",
        "\n",
        "First, we're going to need an optimizer, a loss function, and a dataset:"
      ]
    },
    {
      "cell_type": "code",
      "metadata": {
        "id": "f2c6257b8d02"
      },
      "source": [
        "# Instantiate an optimizer.\n",
        "optimizer = keras.optimizers.SGD(learning_rate=1e-3)\n",
        "# Instantiate a loss function.\n",
        "loss_fn = keras.losses.SparseCategoricalCrossentropy(from_logits=True)\n",
        "\n",
        "# Prepare the training dataset.\n",
        "batch_size = 64\n",
        "(x_train, y_train), (x_test, y_test) = keras.datasets.mnist.load_data()\n",
        "x_train = np.reshape(x_train, (-1, 784))\n",
        "x_test = np.reshape(x_test, (-1, 784))\n",
        "\n",
        "# Reserve 10,000 samples for validation.\n",
        "x_val = x_train[-10000:]\n",
        "y_val = y_train[-10000:]\n",
        "x_train = x_train[:-10000]\n",
        "y_train = y_train[:-10000]\n",
        "\n",
        "# Prepare the training dataset.\n",
        "train_dataset = tf.data.Dataset.from_tensor_slices((x_train, y_train))\n",
        "train_dataset = train_dataset.shuffle(buffer_size=1024).batch(batch_size)\n",
        "\n",
        "# Prepare the validation dataset.\n",
        "val_dataset = tf.data.Dataset.from_tensor_slices((x_val, y_val))\n",
        "val_dataset = val_dataset.batch(batch_size)"
      ],
      "execution_count": 4,
      "outputs": []
    },
    {
      "cell_type": "code",
      "metadata": {
        "id": "6374be9e3d47",
        "colab": {
          "base_uri": "https://localhost:8080/"
        },
        "outputId": "5bafffcc-3b75-4981-9614-30704af6b2e7"
      },
      "source": [
        "def train(model, epochs = 2):\n",
        "  for epoch in range(epochs):\n",
        "      print(\"\\nStart of epoch %d\" % (epoch,))\n",
        "\n",
        "      # Iterate over the batches of the dataset.\n",
        "      for step, (x_batch_train, y_batch_train) in enumerate(train_dataset):\n",
        "\n",
        "          # Open a GradientTape to record the operations run\n",
        "          # during the forward pass, which enables auto-differentiation.\n",
        "          with tf.GradientTape() as tape:\n",
        "\n",
        "              # Run the forward pass of the layer.\n",
        "              # The operations that the layer applies\n",
        "              # to its inputs are going to be recorded\n",
        "              # on the GradientTape.\n",
        "              logits = model(x_batch_train, training=True)  # Logits for this minibatch\n",
        "\n",
        "              # Compute the loss value for this minibatch.\n",
        "              loss_value = loss_fn(y_batch_train, logits)\n",
        "\n",
        "          # Use the gradient tape to automatically retrieve\n",
        "          # the gradients of the trainable variables with respect to the loss.\n",
        "          grads = tape.gradient(loss_value, model.trainable_weights)\n",
        "\n",
        "          # Run one step of gradient descent by updating\n",
        "          # the value of the variables to minimize the loss.\n",
        "          optimizer.apply_gradients(zip(grads, model.trainable_weights))\n",
        "\n",
        "          # Log every 200 batches.\n",
        "          if step % 200 == 0:\n",
        "              print(\n",
        "                  \"Training loss (for one batch) at step %d: %.4f\"\n",
        "                  % (step, float(loss_value))\n",
        "              )\n",
        "              print(\"Seen so far: %s samples\" % ((step + 1) * 64))\n",
        "train(model)"
      ],
      "execution_count": null,
      "outputs": [
        {
          "output_type": "stream",
          "text": [
            "\n",
            "Start of epoch 0\n",
            "Training loss (for one batch) at step 0: 128.7996\n",
            "Seen so far: 64 samples\n",
            "Training loss (for one batch) at step 200: 1.2228\n",
            "Seen so far: 12864 samples\n",
            "Training loss (for one batch) at step 400: 1.1071\n",
            "Seen so far: 25664 samples\n",
            "Training loss (for one batch) at step 600: 0.6806\n",
            "Seen so far: 38464 samples\n",
            "\n",
            "Start of epoch 1\n",
            "Training loss (for one batch) at step 0: 0.4822\n",
            "Seen so far: 64 samples\n",
            "Training loss (for one batch) at step 200: 0.7487\n",
            "Seen so far: 12864 samples\n",
            "Training loss (for one batch) at step 400: 0.4211\n",
            "Seen so far: 25664 samples\n",
            "Training loss (for one batch) at step 600: 0.6087\n",
            "Seen so far: 38464 samples\n"
          ],
          "name": "stdout"
        }
      ]
    },
    {
      "cell_type": "code",
      "metadata": {
        "id": "EA74VQxKtLO2",
        "colab": {
          "base_uri": "https://localhost:8080/"
        },
        "outputId": "2936a93d-0c87-4852-fbd5-8cbad6d04b90"
      },
      "source": [
        "[ x.name for x in model.trainable_weights]"
      ],
      "execution_count": null,
      "outputs": [
        {
          "output_type": "execute_result",
          "data": {
            "text/plain": [
              "['dense_8/kernel:0',\n",
              " 'dense_8/bias:0',\n",
              " 'dense_9/kernel:0',\n",
              " 'dense_9/bias:0',\n",
              " 'predictions/kernel:0',\n",
              " 'predictions/bias:0']"
            ]
          },
          "metadata": {
            "tags": []
          },
          "execution_count": 184
        }
      ]
    },
    {
      "cell_type": "markdown",
      "metadata": {
        "id": "ukgwF6z90XqX"
      },
      "source": [
        "Freeze layers"
      ]
    },
    {
      "cell_type": "code",
      "metadata": {
        "id": "u0W60mysyhYm",
        "colab": {
          "base_uri": "https://localhost:8080/"
        },
        "outputId": "2fb4ca10-e741-4093-a9b1-68bf1fcff8d1"
      },
      "source": [
        "def copy(weights):\r\n",
        "    res = []\r\n",
        "    for w in weights:\r\n",
        "      res.append(tf.identity(w))\r\n",
        "    return res \r\n",
        "\r\n",
        "\r\n",
        "weights = dict()\r\n",
        "# Freeze all layers besides the last one\r\n",
        "target_layer_name = 'predictions'\r\n",
        "for layer in model.layers:\r\n",
        "  if layer.weights:\r\n",
        "    if layer.name != target_layer_name:\r\n",
        "      layer.trainable = False\r\n",
        "    weights[layer.name] = copy(layer.weights)\r\n",
        "\r\n",
        "# Check trainable weights list\r\n",
        "[x.name for x in model.trainable_weights]"
      ],
      "execution_count": null,
      "outputs": [
        {
          "output_type": "execute_result",
          "data": {
            "text/plain": [
              "['predictions/kernel:0', 'predictions/bias:0']"
            ]
          },
          "metadata": {
            "tags": []
          },
          "execution_count": 189
        }
      ]
    },
    {
      "cell_type": "markdown",
      "metadata": {
        "id": "AFef2vRyyV5l"
      },
      "source": [
        "Train only last layer of model and check it\r\n"
      ]
    },
    {
      "cell_type": "code",
      "metadata": {
        "id": "BYNWM3a10wlG",
        "colab": {
          "base_uri": "https://localhost:8080/"
        },
        "outputId": "ce13659f-47d6-4d3d-d613-a77ca46c93c1"
      },
      "source": [
        "train(model)\r\n",
        "\r\n",
        "def equal(w1, w2):\r\n",
        "    return [ bool(tf.math.reduce_all(tf.math.equal(w, w_saved))) \r\n",
        "              for w, w_saved in zip(w1, w2)]\r\n",
        "\r\n",
        "    \r\n",
        "for layer in model.layers:\r\n",
        "  if not layer.weights:\r\n",
        "    continue\r\n",
        "  if layer.name != target_layer_name:\r\n",
        "    assert all(equal(weights[layer.name], layer.weights))\r\n",
        "  else:\r\n",
        "    assert not all(equal(weights[layer.name], layer.weights))\r\n",
        "  print(\"{0} sqr diff: {1}\".format(\r\n",
        "        layer.name,\r\n",
        "        tf.math.reduce_sum(tf.math.pow(\r\n",
        "                        layer.weights[0] -  weights[layer.name][0], 2))\r\n",
        "    ))\r\n"
      ],
      "execution_count": null,
      "outputs": [
        {
          "output_type": "stream",
          "text": [
            "\n",
            "Start of epoch 0\n",
            "Training loss (for one batch) at step 0: 0.1582\n",
            "Seen so far: 64 samples\n",
            "Training loss (for one batch) at step 200: 0.3169\n",
            "Seen so far: 12864 samples\n",
            "Training loss (for one batch) at step 400: 0.5799\n",
            "Seen so far: 25664 samples\n",
            "Training loss (for one batch) at step 600: 0.4901\n",
            "Seen so far: 38464 samples\n",
            "\n",
            "Start of epoch 1\n",
            "Training loss (for one batch) at step 0: 0.4962\n",
            "Seen so far: 64 samples\n",
            "Training loss (for one batch) at step 200: 0.4255\n",
            "Seen so far: 12864 samples\n",
            "Training loss (for one batch) at step 400: 0.5712\n",
            "Seen so far: 25664 samples\n",
            "Training loss (for one batch) at step 600: 0.6500\n",
            "Seen so far: 38464 samples\n",
            "dense_8 sqr diff: 0.0\n",
            "dense_9 sqr diff: 0.0\n",
            "predictions sqr diff: 0.12093017995357513\n"
          ],
          "name": "stdout"
        }
      ]
    },
    {
      "cell_type": "markdown",
      "metadata": {
        "id": "sGuDJooK8-bU"
      },
      "source": [
        "You can freeze layer, but you can't set weight trainable attribute. If layer have trainable == false this it just not lised at `model.trainable_weights`"
      ]
    },
    {
      "cell_type": "code",
      "metadata": {
        "colab": {
          "base_uri": "https://localhost:8080/"
        },
        "id": "U2k3dfDr4yg3",
        "outputId": "d2f0a492-fc75-4042-d958-2bc71f48408b"
      },
      "source": [
        "for layer in model.layers:\r\n",
        "  if layer.name != target_layer_name:\r\n",
        "    for weight in layer.weights:\r\n",
        "      print('w', weight.name, weight.trainable)\r\n",
        "    print('l', layer.name, layer.trainable)"
      ],
      "execution_count": null,
      "outputs": [
        {
          "output_type": "stream",
          "text": [
            "l digits False\n",
            "w dense/kernel:0 True\n",
            "w dense/bias:0 True\n",
            "l dense False\n",
            "w dense_1/kernel:0 True\n",
            "w dense_1/bias:0 True\n",
            "l dense_1 False\n"
          ],
          "name": "stdout"
        }
      ]
    },
    {
      "cell_type": "markdown",
      "metadata": {
        "id": "HX49Y4BbfNwi"
      },
      "source": [
        "# Non eager mode with GradTape"
      ]
    },
    {
      "cell_type": "code",
      "metadata": {
        "id": "Xulkkz7kgRAR"
      },
      "source": [
        "tf.compat.v1.disable_eager_execution()"
      ],
      "execution_count": 19,
      "outputs": []
    },
    {
      "cell_type": "code",
      "metadata": {
        "id": "ZCyP2bGJfz-2"
      },
      "source": [
        "inputs = keras.Input(shape=(784,), name=\"digits\")\n",
        "x1 = layers.Dense(64, activation=\"relu\")(inputs)\n",
        "x2 = layers.Dense(64, activation=\"relu\")(x1)\n",
        "outputs = layers.Dense(10, name=\"predictions\")(x2)\n",
        "model = keras.Model(inputs=inputs, outputs=outputs)"
      ],
      "execution_count": 2,
      "outputs": []
    },
    {
      "cell_type": "code",
      "metadata": {
        "colab": {
          "base_uri": "https://localhost:8080/"
        },
        "id": "rgLjY_Swfz_D",
        "outputId": "7fbb0610-0b6c-4cf0-85f9-b4e715de8680"
      },
      "source": [
        "@tf.function\n",
        "def train():\n",
        "  epochs = 2\n",
        "  for epoch in range(epochs):\n",
        "      print(\"\\nStart of epoch %d\" % (epoch,))\n",
        "\n",
        "      # Iterate over the batches of the dataset.\n",
        "      for step, (x_batch_train, y_batch_train) in enumerate(train_dataset):\n",
        "\n",
        "          # Open a GradientTape to record the operations run\n",
        "          # during the forward pass, which enables auto-differentiation.\n",
        "          with tf.GradientTape() as tape:\n",
        "\n",
        "              # Run the forward pass of the layer.\n",
        "              # The operations that the layer applies\n",
        "              # to its inputs are going to be recorded\n",
        "              # on the GradientTape.\n",
        "              logits = model(x_batch_train, training=True)  # Logits for this minibatch\n",
        "\n",
        "              # Compute the loss value for this minibatch.\n",
        "              loss_value = loss_fn(y_batch_train, logits)\n",
        "\n",
        "          # Use the gradient tape to automatically retrieve\n",
        "          # the gradients of the trainable variables with respect to the loss.\n",
        "          grads = tape.gradient(loss_value, model.trainable_weights)\n",
        "\n",
        "          # Run one step of gradient descent by updating\n",
        "          # the value of the variables to minimize the loss.\n",
        "          optimizer.apply_gradients(zip(grads, model.trainable_weights))\n",
        "\n",
        "train()"
      ],
      "execution_count": 5,
      "outputs": [
        {
          "output_type": "stream",
          "text": [
            "\n",
            "Start of epoch 0\n",
            "\n",
            "Start of epoch 1\n",
            "\n",
            "Start of epoch 0\n",
            "\n",
            "Start of epoch 1\n"
          ],
          "name": "stdout"
        }
      ]
    },
    {
      "cell_type": "code",
      "metadata": {
        "colab": {
          "base_uri": "https://localhost:8080/"
        },
        "id": "_eR7G8SRfz_E",
        "outputId": "2116eb36-fd87-4256-b3c4-717424c90b8f"
      },
      "source": [
        "def copy(weights):\r\n",
        "    res = []\r\n",
        "    for w in weights:\r\n",
        "      res.append(tf.identity(w))\r\n",
        "    return res \r\n",
        "\r\n",
        "\r\n",
        "weights = dict()\r\n",
        "# Freeze all layers besides the last one\r\n",
        "target_layer_name = 'predictions'\r\n",
        "for layer in model.layers:\r\n",
        "  if layer.weights:\r\n",
        "    if layer.name != target_layer_name:\r\n",
        "      layer.trainable = False\r\n",
        "    weights[layer.name] = copy(layer.weights)\r\n",
        "\r\n",
        "# Check trainable weights list\r\n",
        "[x.name for x in model.trainable_weights]"
      ],
      "execution_count": 6,
      "outputs": [
        {
          "output_type": "execute_result",
          "data": {
            "text/plain": [
              "['predictions/kernel:0', 'predictions/bias:0']"
            ]
          },
          "metadata": {
            "tags": []
          },
          "execution_count": 6
        }
      ]
    },
    {
      "cell_type": "code",
      "metadata": {
        "colab": {
          "base_uri": "https://localhost:8080/",
          "height": 235
        },
        "id": "f_3EM4Xjfz_F",
        "outputId": "3f2bec9a-a2ff-4ff3-ae3a-edda8efdecf7"
      },
      "source": [
        "train()\r\n",
        "\r\n",
        "def equal(w1, w2):\r\n",
        "    return [ bool(tf.math.reduce_all(tf.math.equal(w, w_saved))) \r\n",
        "              for w, w_saved in zip(w1, w2)]\r\n",
        "\r\n",
        "    \r\n",
        "for layer in model.layers:\r\n",
        "  if not layer.weights:\r\n",
        "    continue\r\n",
        "  if layer.name != target_layer_name:\r\n",
        "    assert all(equal(weights[layer.name], layer.weights))\r\n",
        "  else:\r\n",
        "    assert not all(equal(weights[layer.name], layer.weights))\r\n",
        "  print(\"{0} sqr diff: {1}\".format(\r\n",
        "        layer.name,\r\n",
        "        tf.math.reduce_sum(tf.math.pow(\r\n",
        "                        layer.weights[0] -  weights[layer.name][0], 2))\r\n",
        "    ))\r\n"
      ],
      "execution_count": 8,
      "outputs": [
        {
          "output_type": "error",
          "ename": "AssertionError",
          "evalue": "ignored",
          "traceback": [
            "\u001b[0;31m---------------------------------------------------------------------------\u001b[0m",
            "\u001b[0;31mAssertionError\u001b[0m                            Traceback (most recent call last)",
            "\u001b[0;32m<ipython-input-8-a6c07a0af94a>\u001b[0m in \u001b[0;36m<module>\u001b[0;34m()\u001b[0m\n\u001b[1;32m     10\u001b[0m     \u001b[0;32mcontinue\u001b[0m\u001b[0;34m\u001b[0m\u001b[0;34m\u001b[0m\u001b[0m\n\u001b[1;32m     11\u001b[0m   \u001b[0;32mif\u001b[0m \u001b[0mlayer\u001b[0m\u001b[0;34m.\u001b[0m\u001b[0mname\u001b[0m \u001b[0;34m!=\u001b[0m \u001b[0mtarget_layer_name\u001b[0m\u001b[0;34m:\u001b[0m\u001b[0;34m\u001b[0m\u001b[0;34m\u001b[0m\u001b[0m\n\u001b[0;32m---> 12\u001b[0;31m     \u001b[0;32massert\u001b[0m \u001b[0mall\u001b[0m\u001b[0;34m(\u001b[0m\u001b[0mequal\u001b[0m\u001b[0;34m(\u001b[0m\u001b[0mweights\u001b[0m\u001b[0;34m[\u001b[0m\u001b[0mlayer\u001b[0m\u001b[0;34m.\u001b[0m\u001b[0mname\u001b[0m\u001b[0;34m]\u001b[0m\u001b[0;34m,\u001b[0m \u001b[0mlayer\u001b[0m\u001b[0;34m.\u001b[0m\u001b[0mweights\u001b[0m\u001b[0;34m)\u001b[0m\u001b[0;34m)\u001b[0m\u001b[0;34m\u001b[0m\u001b[0;34m\u001b[0m\u001b[0m\n\u001b[0m\u001b[1;32m     13\u001b[0m   \u001b[0;32melse\u001b[0m\u001b[0;34m:\u001b[0m\u001b[0;34m\u001b[0m\u001b[0;34m\u001b[0m\u001b[0m\n\u001b[1;32m     14\u001b[0m     \u001b[0;32massert\u001b[0m \u001b[0;32mnot\u001b[0m \u001b[0mall\u001b[0m\u001b[0;34m(\u001b[0m\u001b[0mequal\u001b[0m\u001b[0;34m(\u001b[0m\u001b[0mweights\u001b[0m\u001b[0;34m[\u001b[0m\u001b[0mlayer\u001b[0m\u001b[0;34m.\u001b[0m\u001b[0mname\u001b[0m\u001b[0;34m]\u001b[0m\u001b[0;34m,\u001b[0m \u001b[0mlayer\u001b[0m\u001b[0;34m.\u001b[0m\u001b[0mweights\u001b[0m\u001b[0;34m)\u001b[0m\u001b[0;34m)\u001b[0m\u001b[0;34m\u001b[0m\u001b[0;34m\u001b[0m\u001b[0m\n",
            "\u001b[0;31mAssertionError\u001b[0m: "
          ]
        }
      ]
    },
    {
      "cell_type": "markdown",
      "metadata": {
        "id": "4kcAvfKv1ziY"
      },
      "source": [
        "# Keras API training mode"
      ]
    },
    {
      "cell_type": "markdown",
      "metadata": {
        "id": "w3Jm-7CNeu9M"
      },
      "source": [
        "Create model with custom train_step to be sure that trainable vars is got from self.trainable_variables"
      ]
    },
    {
      "cell_type": "code",
      "metadata": {
        "id": "_3BKAOb3bP7O"
      },
      "source": [
        "class CustomModel(keras.Model):\r\n",
        "    def train_step(self, data):\r\n",
        "        # Unpack the data. Its structure depends on your model and\r\n",
        "        # on what you pass to `fit()`.\r\n",
        "        x, y = data\r\n",
        "\r\n",
        "        with tf.GradientTape() as tape:\r\n",
        "            y_pred = self(x, training=True)  # Forward pass\r\n",
        "            # Compute the loss value\r\n",
        "            # (the loss function is configured in `compile()`)\r\n",
        "            loss = self.compiled_loss(y, y_pred, regularization_losses=self.losses)\r\n",
        "\r\n",
        "        # Compute gradients\r\n",
        "        trainable_vars = self.trainable_variables\r\n",
        "        print(\"Trainable vars\", trainable_vars)\r\n",
        "        gradients = tape.gradient(loss, trainable_vars)\r\n",
        "        # Update weights\r\n",
        "        self.optimizer.apply_gradients(zip(gradients, trainable_vars))\r\n",
        "        # Update metrics (includes the metric that tracks the loss)\r\n",
        "        self.compiled_metrics.update_state(y, y_pred)\r\n",
        "        # Return a dict mapping metric names to current value\r\n",
        "        return {m.name: m.result() for m in self.metrics}"
      ],
      "execution_count": 15,
      "outputs": []
    },
    {
      "cell_type": "code",
      "metadata": {
        "id": "AtVYOTff4ahW",
        "colab": {
          "base_uri": "https://localhost:8080/"
        },
        "outputId": "a9106a0b-600a-4eaa-c196-b23d2ebdc501"
      },
      "source": [
        "inputs = keras.Input(shape=(784,), name=\"inputs\")\r\n",
        "x1 = layers.Dense(64, activation=\"relu\", name=\"dense1\")(inputs)\r\n",
        "x2 = layers.Dense(64, activation=\"relu\", name=\"dense2\")(x1)\r\n",
        "outputs = layers.Dense(10, name=\"predictions\")(x2)\r\n",
        "model = CustomModel(inputs=inputs, outputs=outputs)\r\n",
        "[x.trainable for x in model.layers]"
      ],
      "execution_count": 16,
      "outputs": [
        {
          "output_type": "execute_result",
          "data": {
            "text/plain": [
              "[True, True, True, True]"
            ]
          },
          "metadata": {
            "tags": []
          },
          "execution_count": 16
        }
      ]
    },
    {
      "cell_type": "markdown",
      "metadata": {
        "id": "2JMmqomgo5_d"
      },
      "source": [
        "Make callable which can freeze learning\r\n",
        "\r\n",
        "\r\n",
        "\r\n",
        "\r\n",
        "\r\n",
        "\r\n"
      ]
    },
    {
      "cell_type": "code",
      "metadata": {
        "id": "_FDFVeHaqHmE"
      },
      "source": [
        "class FreezingCallback(tf.keras.callbacks.Callback):\r\n",
        "  @staticmethod \r\n",
        "  def copy(weights):\r\n",
        "    res = []\r\n",
        "    for w in weights:\r\n",
        "      res.append(tf.identity(w))\r\n",
        "    return res \r\n",
        "\r\n",
        "  @staticmethod\r\n",
        "  def have_weights(layer):\r\n",
        "    return hasattr(layer, 'weights') and layer.weights\r\n",
        "\r\n",
        "  @staticmethod\r\n",
        "  def equal(w1, w2):\r\n",
        "    return [(w.name, bool(tf.math.reduce_all(tf.math.equal(w, w_saved)))) \r\n",
        "              for w, w_saved in zip(w1, w2)]\r\n",
        "    \r\n",
        "  def __init__(self, layers_to_freeze, epoch_to_freeze):\r\n",
        "    super().__init__()\r\n",
        "    self.layers_to_freeze = layers_to_freeze\r\n",
        "    self.epoch_to_freeze = epoch_to_freeze\r\n",
        "    self.weights = dict()\r\n",
        "\r\n",
        "  def on_epoch_begin(self, epoch, logs=None):\r\n",
        "    # Keep weights before epoch\r\n",
        "    for layer in self.model.layers:\r\n",
        "      if self.have_weights(layer):\r\n",
        "        self.weights[layer.name] = self.copy(layer.weights)\r\n",
        "        assert all([x[1] for x in \r\n",
        "                   self.equal(layer.weights, self.weights[layer.name])])\r\n",
        "        \r\n",
        "    # Freeze if it's time to freeze\r\n",
        "    if epoch == self.epoch_to_freeze:\r\n",
        "      for layer in self.model.layers:\r\n",
        "        if layer.name in self.layers_to_freeze:\r\n",
        "          print(f\"Freeze layer {layer.name}\")\r\n",
        "          layer.trainable = False\r\n",
        "\r\n",
        "    print(\"Trainable status:\")\r\n",
        "    for layer in self.model.layers:\r\n",
        "      print(f\"Layer {layer.name} trainable = {layer.trainable}\")\r\n",
        "  \r\n",
        "  def on_epoch_end(self, epoch, logs=None):\r\n",
        "    print(logs)\r\n",
        "    for layer in self.model.layers:\r\n",
        "      if self.have_weights(layer):\r\n",
        "        equal = self.equal(layer.weights, self.weights[layer.name])\r\n",
        "        print(f\"Layer {layer.name} changed? \"\r\n",
        "              f\"{[(x[0], not x[1]) for x in equal]}\")\r\n",
        "        print(\"sqr diff {}\".format(\r\n",
        "            tf.math.reduce_sum(tf.math.pow(\r\n",
        "                        layer.weights[0] - self.weights[layer.name][0], 2))))\r\n",
        "        # Keep new weights\r\n",
        "        self.weights[layer.name] = self.copy(layer.weights)\r\n",
        "\r\n",
        "\r\n",
        "freezing_callback = FreezingCallback(layers_to_freeze=['dense1', 'dense2', ],#, 'predictions'],\r\n",
        "                                      epoch_to_freeze=4)"
      ],
      "execution_count": 12,
      "outputs": []
    },
    {
      "cell_type": "code",
      "metadata": {
        "colab": {
          "base_uri": "https://localhost:8080/"
        },
        "id": "c_SUGKadOwoh",
        "outputId": "ce9736dc-eddd-42c3-a42a-c548d1ae3146"
      },
      "source": [
        "# You can change trainable status only before compileing\r\n",
        "for layer in model.layers:\r\n",
        "  layer.trainable = True\r\n",
        "[x.trainable for x in model.layers]"
      ],
      "execution_count": 32,
      "outputs": [
        {
          "output_type": "execute_result",
          "data": {
            "text/plain": [
              "[True, True, True, True]"
            ]
          },
          "metadata": {
            "tags": []
          },
          "execution_count": 32
        }
      ]
    },
    {
      "cell_type": "code",
      "metadata": {
        "id": "SUX79sJ0qFzK"
      },
      "source": [
        "compile_kwargs = {\r\n",
        "    'optimizer': keras.optimizers.SGD(learning_rate=1e-3), \r\n",
        "    'loss': keras.losses.SparseCategoricalCrossentropy(from_logits=True),\r\n",
        "    'metrics': [keras.metrics.SparseCategoricalAccuracy()],\r\n",
        "}\r\n",
        "\r\n",
        "model.compile(\r\n",
        "    **compile_kwargs\r\n",
        ")\r\n",
        "\r\n"
      ],
      "execution_count": 17,
      "outputs": []
    },
    {
      "cell_type": "code",
      "metadata": {
        "colab": {
          "base_uri": "https://localhost:8080/"
        },
        "id": "oeDKvkzKyE0K",
        "outputId": "1f4db480-cd7a-4913-d8ef-de6eda8231a9"
      },
      "source": [
        "# Setup trainable param\r\n",
        "#for layer in model.layers:\r\n",
        "#  layer.trainable = False\r\n",
        "#model.trainable = False\r\n",
        "\r\n",
        "model.fit(\r\n",
        "    x_train,\r\n",
        "    y_train,\r\n",
        "    batch_size=32,\r\n",
        "    epochs=10,\r\n",
        "    callbacks=[freezing_callback]\r\n",
        ")"
      ],
      "execution_count": 18,
      "outputs": [
        {
          "output_type": "stream",
          "text": [
            "Epoch 1/10\n",
            "Trainable status:\n",
            "Layer inputs trainable = True\n",
            "Layer dense1 trainable = True\n",
            "Layer dense2 trainable = True\n",
            "Layer predictions trainable = True\n",
            "Trainable vars [<tf.Variable 'dense1/kernel:0' shape=(784, 64) dtype=float32>, <tf.Variable 'dense1/bias:0' shape=(64,) dtype=float32>, <tf.Variable 'dense2/kernel:0' shape=(64, 64) dtype=float32>, <tf.Variable 'dense2/bias:0' shape=(64,) dtype=float32>, <tf.Variable 'predictions/kernel:0' shape=(64, 10) dtype=float32>, <tf.Variable 'predictions/bias:0' shape=(10,) dtype=float32>]\n",
            "Trainable vars [<tf.Variable 'dense1/kernel:0' shape=(784, 64) dtype=float32>, <tf.Variable 'dense1/bias:0' shape=(64,) dtype=float32>, <tf.Variable 'dense2/kernel:0' shape=(64, 64) dtype=float32>, <tf.Variable 'dense2/bias:0' shape=(64,) dtype=float32>, <tf.Variable 'predictions/kernel:0' shape=(64, 10) dtype=float32>, <tf.Variable 'predictions/bias:0' shape=(10,) dtype=float32>]\n",
            "1563/1563 [==============================] - 2s 1ms/step - loss: 4.1225 - sparse_categorical_accuracy: 0.6869\n",
            "{'loss': 1.450222134590149, 'sparse_categorical_accuracy': 0.7686600089073181}\n",
            "Layer dense1 changed? [('dense1/kernel:0', True), ('dense1/bias:0', True)]\n",
            "sqr diff 4.3450422286987305\n",
            "Layer dense2 changed? [('dense2/kernel:0', True), ('dense2/bias:0', True)]\n",
            "sqr diff 1.0224521160125732\n",
            "Layer predictions changed? [('predictions/kernel:0', True), ('predictions/bias:0', True)]\n",
            "sqr diff 0.4683196544647217\n",
            "Epoch 2/10\n",
            "Trainable status:\n",
            "Layer inputs trainable = True\n",
            "Layer dense1 trainable = True\n",
            "Layer dense2 trainable = True\n",
            "Layer predictions trainable = True\n",
            "1563/1563 [==============================] - 2s 1ms/step - loss: 0.5045 - sparse_categorical_accuracy: 0.8624\n",
            "{'loss': 0.4788740277290344, 'sparse_categorical_accuracy': 0.8707399964332581}\n",
            "Layer dense1 changed? [('dense1/kernel:0', True), ('dense1/bias:0', True)]\n",
            "sqr diff 0.19245858490467072\n",
            "Layer dense2 changed? [('dense2/kernel:0', True), ('dense2/bias:0', True)]\n",
            "sqr diff 0.049054622650146484\n",
            "Layer predictions changed? [('predictions/kernel:0', True), ('predictions/bias:0', True)]\n",
            "sqr diff 0.025048810988664627\n",
            "Epoch 3/10\n",
            "Trainable status:\n",
            "Layer inputs trainable = True\n",
            "Layer dense1 trainable = True\n",
            "Layer dense2 trainable = True\n",
            "Layer predictions trainable = True\n",
            "1563/1563 [==============================] - 2s 1ms/step - loss: 0.3813 - sparse_categorical_accuracy: 0.8938\n",
            "{'loss': 0.3720289170742035, 'sparse_categorical_accuracy': 0.8961399793624878}\n",
            "Layer dense1 changed? [('dense1/kernel:0', True), ('dense1/bias:0', True)]\n",
            "sqr diff 0.10038459300994873\n",
            "Layer dense2 changed? [('dense2/kernel:0', True), ('dense2/bias:0', True)]\n",
            "sqr diff 0.02355032041668892\n",
            "Layer predictions changed? [('predictions/kernel:0', True), ('predictions/bias:0', True)]\n",
            "sqr diff 0.01199013739824295\n",
            "Epoch 4/10\n",
            "Trainable status:\n",
            "Layer inputs trainable = True\n",
            "Layer dense1 trainable = True\n",
            "Layer dense2 trainable = True\n",
            "Layer predictions trainable = True\n",
            "1563/1563 [==============================] - 2s 1ms/step - loss: 0.3260 - sparse_categorical_accuracy: 0.9075\n",
            "{'loss': 0.32295843958854675, 'sparse_categorical_accuracy': 0.9081400036811829}\n",
            "Layer dense1 changed? [('dense1/kernel:0', True), ('dense1/bias:0', True)]\n",
            "sqr diff 0.06472229957580566\n",
            "Layer dense2 changed? [('dense2/kernel:0', True), ('dense2/bias:0', True)]\n",
            "sqr diff 0.01680314913392067\n",
            "Layer predictions changed? [('predictions/kernel:0', True), ('predictions/bias:0', True)]\n",
            "sqr diff 0.007462570443749428\n",
            "Epoch 5/10\n",
            "Freeze layer dense1\n",
            "Freeze layer dense2\n",
            "Trainable status:\n",
            "Layer inputs trainable = True\n",
            "Layer dense1 trainable = False\n",
            "Layer dense2 trainable = False\n",
            "Layer predictions trainable = True\n",
            "1563/1563 [==============================] - 2s 1ms/step - loss: 0.2941 - sparse_categorical_accuracy: 0.9152\n",
            "{'loss': 0.2915627062320709, 'sparse_categorical_accuracy': 0.915340006351471}\n",
            "Layer dense1 changed? [('dense1/kernel:0', True), ('dense1/bias:0', True)]\n",
            "sqr diff 0.04702324792742729\n",
            "Layer dense2 changed? [('dense2/kernel:0', True), ('dense2/bias:0', True)]\n",
            "sqr diff 0.01073005236685276\n",
            "Layer predictions changed? [('predictions/kernel:0', True), ('predictions/bias:0', True)]\n",
            "sqr diff 0.005185134708881378\n",
            "Epoch 6/10\n",
            "Trainable status:\n",
            "Layer inputs trainable = True\n",
            "Layer dense1 trainable = False\n",
            "Layer dense2 trainable = False\n",
            "Layer predictions trainable = True\n",
            "1563/1563 [==============================] - 2s 1ms/step - loss: 0.2601 - sparse_categorical_accuracy: 0.9231\n",
            "{'loss': 0.26706254482269287, 'sparse_categorical_accuracy': 0.9220200181007385}\n",
            "Layer dense1 changed? [('dense1/kernel:0', True), ('dense1/bias:0', True)]\n",
            "sqr diff 0.0402759350836277\n",
            "Layer dense2 changed? [('dense2/kernel:0', True), ('dense2/bias:0', True)]\n",
            "sqr diff 0.008519379422068596\n",
            "Layer predictions changed? [('predictions/kernel:0', True), ('predictions/bias:0', True)]\n",
            "sqr diff 0.0037638770882040262\n",
            "Epoch 7/10\n",
            "Trainable status:\n",
            "Layer inputs trainable = True\n",
            "Layer dense1 trainable = False\n",
            "Layer dense2 trainable = False\n",
            "Layer predictions trainable = True\n",
            "1563/1563 [==============================] - 2s 1ms/step - loss: 0.2433 - sparse_categorical_accuracy: 0.9275\n",
            "{'loss': 0.25018778443336487, 'sparse_categorical_accuracy': 0.925819993019104}\n",
            "Layer dense1 changed? [('dense1/kernel:0', True), ('dense1/bias:0', True)]\n",
            "sqr diff 0.033393971621990204\n",
            "Layer dense2 changed? [('dense2/kernel:0', True), ('dense2/bias:0', True)]\n",
            "sqr diff 0.007702467497438192\n",
            "Layer predictions changed? [('predictions/kernel:0', True), ('predictions/bias:0', True)]\n",
            "sqr diff 0.0032134242355823517\n",
            "Epoch 8/10\n",
            "Trainable status:\n",
            "Layer inputs trainable = True\n",
            "Layer dense1 trainable = False\n",
            "Layer dense2 trainable = False\n",
            "Layer predictions trainable = True\n",
            "1563/1563 [==============================] - 2s 1ms/step - loss: 0.2354 - sparse_categorical_accuracy: 0.9321\n",
            "{'loss': 0.23663820326328278, 'sparse_categorical_accuracy': 0.9297599792480469}\n",
            "Layer dense1 changed? [('dense1/kernel:0', True), ('dense1/bias:0', True)]\n",
            "sqr diff 0.029509885236620903\n",
            "Layer dense2 changed? [('dense2/kernel:0', True), ('dense2/bias:0', True)]\n",
            "sqr diff 0.007362808100879192\n",
            "Layer predictions changed? [('predictions/kernel:0', True), ('predictions/bias:0', True)]\n",
            "sqr diff 0.0029434477910399437\n",
            "Epoch 9/10\n",
            "Trainable status:\n",
            "Layer inputs trainable = True\n",
            "Layer dense1 trainable = False\n",
            "Layer dense2 trainable = False\n",
            "Layer predictions trainable = True\n",
            "1563/1563 [==============================] - 2s 1ms/step - loss: 0.2217 - sparse_categorical_accuracy: 0.9340\n",
            "{'loss': 0.22428421676158905, 'sparse_categorical_accuracy': 0.9327399730682373}\n",
            "Layer dense1 changed? [('dense1/kernel:0', True), ('dense1/bias:0', True)]\n",
            "sqr diff 0.026639552786946297\n",
            "Layer dense2 changed? [('dense2/kernel:0', True), ('dense2/bias:0', True)]\n",
            "sqr diff 0.0058114295825362206\n",
            "Layer predictions changed? [('predictions/kernel:0', True), ('predictions/bias:0', True)]\n",
            "sqr diff 0.002770393854007125\n",
            "Epoch 10/10\n",
            "Trainable status:\n",
            "Layer inputs trainable = True\n",
            "Layer dense1 trainable = False\n",
            "Layer dense2 trainable = False\n",
            "Layer predictions trainable = True\n",
            "1563/1563 [==============================] - 2s 1ms/step - loss: 0.2173 - sparse_categorical_accuracy: 0.9349\n",
            "{'loss': 0.21340078115463257, 'sparse_categorical_accuracy': 0.9359800219535828}\n",
            "Layer dense1 changed? [('dense1/kernel:0', True), ('dense1/bias:0', True)]\n",
            "sqr diff 0.023647833615541458\n",
            "Layer dense2 changed? [('dense2/kernel:0', True), ('dense2/bias:0', True)]\n",
            "sqr diff 0.004862810485064983\n",
            "Layer predictions changed? [('predictions/kernel:0', True), ('predictions/bias:0', True)]\n",
            "sqr diff 0.002078779274597764\n"
          ],
          "name": "stdout"
        },
        {
          "output_type": "execute_result",
          "data": {
            "text/plain": [
              "<tensorflow.python.keras.callbacks.History at 0x7fe36768d4a8>"
            ]
          },
          "metadata": {
            "tags": []
          },
          "execution_count": 18
        }
      ]
    },
    {
      "cell_type": "markdown",
      "metadata": {
        "id": "d600076b7be0"
      },
      "source": [
        "## Low-level handling of metrics\n",
        "\n",
        "Let's add metrics monitoring to this basic loop.\n",
        "\n",
        "You can readily reuse the built-in metrics (or custom ones you wrote) in such training\n",
        "loops written from scratch. Here's the flow:\n",
        "\n",
        "- Instantiate the metric at the start of the loop\n",
        "- Call `metric.update_state()` after each batch\n",
        "- Call `metric.result()` when you need to display the current value of the metric\n",
        "- Call `metric.reset_states()` when you need to clear the state of the metric\n",
        "(typically at the end of an epoch)\n",
        "\n",
        "Let's use this knowledge to compute `SparseCategoricalAccuracy` on validation data at\n",
        "the end of each epoch:"
      ]
    },
    {
      "cell_type": "code",
      "metadata": {
        "id": "2602509b16c7"
      },
      "source": [
        "# Get model\n",
        "inputs = keras.Input(shape=(784,), name=\"digits\")\n",
        "x = layers.Dense(64, activation=\"relu\", name=\"dense_1\")(inputs)\n",
        "x = layers.Dense(64, activation=\"relu\", name=\"dense_2\")(x)\n",
        "outputs = layers.Dense(10, name=\"predictions\")(x)\n",
        "model = keras.Model(inputs=inputs, outputs=outputs)\n",
        "\n",
        "# Instantiate an optimizer to train the model.\n",
        "optimizer = keras.optimizers.SGD(learning_rate=1e-3)\n",
        "# Instantiate a loss function.\n",
        "loss_fn = keras.losses.SparseCategoricalCrossentropy(from_logits=True)\n",
        "\n",
        "# Prepare the metrics.\n",
        "train_acc_metric = keras.metrics.SparseCategoricalAccuracy()\n",
        "val_acc_metric = keras.metrics.SparseCategoricalAccuracy()"
      ],
      "execution_count": null,
      "outputs": []
    },
    {
      "cell_type": "markdown",
      "metadata": {
        "id": "9111a5cc87dc"
      },
      "source": [
        "Here's our training & evaluation loop:"
      ]
    },
    {
      "cell_type": "code",
      "metadata": {
        "id": "ed4cd29fe1af",
        "colab": {
          "base_uri": "https://localhost:8080/"
        },
        "outputId": "4c595e2a-e9a0-4913-9387-2f8b08fa05af"
      },
      "source": [
        "import time\n",
        "\n",
        "epochs = 2\n",
        "for epoch in range(epochs):\n",
        "    print(\"\\nStart of epoch %d\" % (epoch,))\n",
        "    start_time = time.time()\n",
        "\n",
        "    # Iterate over the batches of the dataset.\n",
        "    for step, (x_batch_train, y_batch_train) in enumerate(train_dataset):\n",
        "        with tf.GradientTape() as tape:\n",
        "            logits = model(x_batch_train, training=True)\n",
        "            loss_value = loss_fn(y_batch_train, logits)\n",
        "        grads = tape.gradient(loss_value, model.trainable_weights)\n",
        "        optimizer.apply_gradients(zip(grads, model.trainable_weights))\n",
        "\n",
        "        # Update training metric.\n",
        "        train_acc_metric.update_state(y_batch_train, logits)\n",
        "\n",
        "        # Log every 200 batches.\n",
        "        if step % 200 == 0:\n",
        "            print(\n",
        "                \"Training loss (for one batch) at step %d: %.4f\"\n",
        "                % (step, float(loss_value))\n",
        "            )\n",
        "            print(\"Seen so far: %d samples\" % ((step + 1) * 64))\n",
        "\n",
        "    # Display metrics at the end of each epoch.\n",
        "    train_acc = train_acc_metric.result()\n",
        "    print(\"Training acc over epoch: %.4f\" % (float(train_acc),))\n",
        "\n",
        "    # Reset training metrics at the end of each epoch\n",
        "    train_acc_metric.reset_states()\n",
        "\n",
        "    # Run a validation loop at the end of each epoch.\n",
        "    for x_batch_val, y_batch_val in val_dataset:\n",
        "        val_logits = model(x_batch_val, training=False)\n",
        "        # Update val metrics\n",
        "        val_acc_metric.update_state(y_batch_val, val_logits)\n",
        "    val_acc = val_acc_metric.result()\n",
        "    val_acc_metric.reset_states()\n",
        "    print(\"Validation acc: %.4f\" % (float(val_acc),))\n",
        "    print(\"Time taken: %.2fs\" % (time.time() - start_time))"
      ],
      "execution_count": null,
      "outputs": [
        {
          "output_type": "stream",
          "text": [
            "\n",
            "Start of epoch 0\n",
            "Training loss (for one batch) at step 0: 79.9983\n",
            "Seen so far: 64 samples\n",
            "Training loss (for one batch) at step 200: 1.2664\n",
            "Seen so far: 12864 samples\n",
            "Training loss (for one batch) at step 400: 1.0489\n",
            "Seen so far: 25664 samples\n",
            "Training loss (for one batch) at step 600: 0.9143\n",
            "Seen so far: 38464 samples\n",
            "Training acc over epoch: 0.7750\n",
            "Validation acc: 0.8007\n",
            "Time taken: 5.90s\n",
            "\n",
            "Start of epoch 1\n",
            "Training loss (for one batch) at step 0: 0.8803\n",
            "Seen so far: 64 samples\n",
            "Training loss (for one batch) at step 200: 1.1116\n",
            "Seen so far: 12864 samples\n",
            "Training loss (for one batch) at step 400: 0.6594\n",
            "Seen so far: 25664 samples\n",
            "Training loss (for one batch) at step 600: 0.7898\n",
            "Seen so far: 38464 samples\n",
            "Training acc over epoch: 0.8679\n",
            "Validation acc: 0.8851\n",
            "Time taken: 5.89s\n"
          ],
          "name": "stdout"
        }
      ]
    },
    {
      "cell_type": "markdown",
      "metadata": {
        "id": "940d8d9fae83"
      },
      "source": [
        "## Speeding-up your training step with `tf.function`\n",
        "\n",
        "The default runtime in TensorFlow 2.0 is\n",
        "[eager execution](https://www.tensorflow.org/guide/eager). As such, our training loop\n",
        "above executes eagerly.\n",
        "\n",
        "This is great for debugging, but graph compilation has a definite performance\n",
        "advantage. Describing your computation as a static graph enables the framework\n",
        "to apply global performance optimizations. This is impossible when\n",
        "the framework is constrained to greedly execute one operation after another,\n",
        "with no knowledge of what comes next.\n",
        "\n",
        "You can compile into a static graph any function that takes tensors as input.\n",
        "Just add a `@tf.function` decorator on it, like this:"
      ]
    },
    {
      "cell_type": "code",
      "metadata": {
        "id": "fdacc2d48ade"
      },
      "source": [
        "@tf.function\n",
        "def train_step(x, y):\n",
        "    with tf.GradientTape() as tape:\n",
        "        logits = model(x, training=True)\n",
        "        loss_value = loss_fn(y, logits)\n",
        "    grads = tape.gradient(loss_value, model.trainable_weights)\n",
        "    optimizer.apply_gradients(zip(grads, model.trainable_weights))\n",
        "    train_acc_metric.update_state(y, logits)\n",
        "    return loss_value\n"
      ],
      "execution_count": null,
      "outputs": []
    },
    {
      "cell_type": "markdown",
      "metadata": {
        "id": "ab61b0bf3126"
      },
      "source": [
        "Let's do the same with the evaluation step:"
      ]
    },
    {
      "cell_type": "code",
      "metadata": {
        "id": "da4828fd8ef7"
      },
      "source": [
        "@tf.function\n",
        "def test_step(x, y):\n",
        "    val_logits = model(x, training=False)\n",
        "    val_acc_metric.update_state(y, val_logits)\n"
      ],
      "execution_count": null,
      "outputs": []
    },
    {
      "cell_type": "markdown",
      "metadata": {
        "id": "d552377968f1"
      },
      "source": [
        "Now, let's re-run our training loop with this compiled training step:"
      ]
    },
    {
      "cell_type": "code",
      "metadata": {
        "id": "cd859dbef477",
        "colab": {
          "base_uri": "https://localhost:8080/"
        },
        "outputId": "5a427b91-dfc7-42c5-f667-41137e424573"
      },
      "source": [
        "import time\n",
        "\n",
        "epochs = 2\n",
        "for epoch in range(epochs):\n",
        "    print(\"\\nStart of epoch %d\" % (epoch,))\n",
        "    start_time = time.time()\n",
        "\n",
        "    # Iterate over the batches of the dataset.\n",
        "    for step, (x_batch_train, y_batch_train) in enumerate(train_dataset):\n",
        "        loss_value = train_step(x_batch_train, y_batch_train)\n",
        "\n",
        "        # Log every 200 batches.\n",
        "        if step % 200 == 0:\n",
        "            print(\n",
        "                \"Training loss (for one batch) at step %d: %.4f\"\n",
        "                % (step, float(loss_value))\n",
        "            )\n",
        "            print(\"Seen so far: %d samples\" % ((step + 1) * 64))\n",
        "\n",
        "    # Display metrics at the end of each epoch.\n",
        "    train_acc = train_acc_metric.result()\n",
        "    print(\"Training acc over epoch: %.4f\" % (float(train_acc),))\n",
        "\n",
        "    # Reset training metrics at the end of each epoch\n",
        "    train_acc_metric.reset_states()\n",
        "\n",
        "    # Run a validation loop at the end of each epoch.\n",
        "    for x_batch_val, y_batch_val in val_dataset:\n",
        "        test_step(x_batch_val, y_batch_val)\n",
        "\n",
        "    val_acc = val_acc_metric.result()\n",
        "    val_acc_metric.reset_states()\n",
        "    print(\"Validation acc: %.4f\" % (float(val_acc),))\n",
        "    print(\"Time taken: %.2fs\" % (time.time() - start_time))"
      ],
      "execution_count": null,
      "outputs": [
        {
          "output_type": "stream",
          "text": [
            "\n",
            "Start of epoch 0\n",
            "Training loss (for one batch) at step 0: 0.2370\n",
            "Seen so far: 64 samples\n",
            "Training loss (for one batch) at step 200: 0.3443\n",
            "Seen so far: 12864 samples\n",
            "Training loss (for one batch) at step 400: 0.3813\n",
            "Seen so far: 25664 samples\n",
            "Training loss (for one batch) at step 600: 0.3108\n",
            "Seen so far: 38464 samples\n",
            "Training acc over epoch: 0.8952\n",
            "Validation acc: 0.9032\n",
            "Time taken: 2.04s\n",
            "\n",
            "Start of epoch 1\n",
            "Training loss (for one batch) at step 0: 0.6492\n",
            "Seen so far: 64 samples\n",
            "Training loss (for one batch) at step 200: 0.1714\n",
            "Seen so far: 12864 samples\n",
            "Training loss (for one batch) at step 400: 0.3296\n",
            "Seen so far: 25664 samples\n",
            "Training loss (for one batch) at step 600: 0.4075\n",
            "Seen so far: 38464 samples\n",
            "Training acc over epoch: 0.9086\n",
            "Validation acc: 0.9051\n",
            "Time taken: 1.65s\n"
          ],
          "name": "stdout"
        }
      ]
    },
    {
      "cell_type": "markdown",
      "metadata": {
        "id": "8977d77a8095"
      },
      "source": [
        "Much faster, isn't it?"
      ]
    },
    {
      "cell_type": "markdown",
      "metadata": {
        "id": "b5b5a54d339a"
      },
      "source": [
        "## Low-level handling of losses tracked by the model\n",
        "\n",
        "Layers & models recursively track any losses created during the forward pass\n",
        "by layers that call `self.add_loss(value)`. The resulting list of scalar loss\n",
        "values are available via the property `model.losses`\n",
        "at the end of the forward pass.\n",
        "\n",
        "If you want to be using these loss components, you should sum them\n",
        "and add them to the main loss in your training step.\n",
        "\n",
        "Consider this layer, that creates an activity regularization loss:"
      ]
    },
    {
      "cell_type": "code",
      "metadata": {
        "id": "4ec7c4b16596"
      },
      "source": [
        "class ActivityRegularizationLayer(layers.Layer):\n",
        "    def call(self, inputs):\n",
        "        self.add_loss(1e-2 * tf.reduce_sum(inputs))\n",
        "        return inputs\n"
      ],
      "execution_count": null,
      "outputs": []
    },
    {
      "cell_type": "markdown",
      "metadata": {
        "id": "6b12260b8bf2"
      },
      "source": [
        "Let's build a really simple model that uses it:"
      ]
    },
    {
      "cell_type": "code",
      "metadata": {
        "id": "57afe49e6b93"
      },
      "source": [
        "inputs = keras.Input(shape=(784,), name=\"digits\")\n",
        "x = layers.Dense(64, activation=\"relu\")(inputs)\n",
        "# Insert activity regularization as a layer\n",
        "x = ActivityRegularizationLayer()(x)\n",
        "x = layers.Dense(64, activation=\"relu\")(x)\n",
        "outputs = layers.Dense(10, name=\"predictions\")(x)\n",
        "\n",
        "model = keras.Model(inputs=inputs, outputs=outputs)"
      ],
      "execution_count": null,
      "outputs": []
    },
    {
      "cell_type": "markdown",
      "metadata": {
        "id": "aadb58115c13"
      },
      "source": [
        "Here's what our training step should look like now:"
      ]
    },
    {
      "cell_type": "code",
      "metadata": {
        "id": "cf674776a0d2"
      },
      "source": [
        "@tf.function\n",
        "def train_step(x, y):\n",
        "    with tf.GradientTape() as tape:\n",
        "        logits = model(x, training=True)\n",
        "        loss_value = loss_fn(y, logits)\n",
        "        # Add any extra losses created during the forward pass.\n",
        "        loss_value += sum(model.losses)\n",
        "    grads = tape.gradient(loss_value, model.trainable_weights)\n",
        "    optimizer.apply_gradients(zip(grads, model.trainable_weights))\n",
        "    train_acc_metric.update_state(y, logits)\n",
        "    return loss_value\n"
      ],
      "execution_count": null,
      "outputs": []
    },
    {
      "cell_type": "markdown",
      "metadata": {
        "id": "0af04732fe78"
      },
      "source": [
        "## Summary\n",
        "\n",
        "Now you know everything there is to know about using built-in training loops and\n",
        "writing your own from scratch.\n",
        "\n",
        "To conclude, here's a simple end-to-end example that ties together everything\n",
        "you've learned in this guide: a DCGAN trained on MNIST digits."
      ]
    },
    {
      "cell_type": "markdown",
      "metadata": {
        "id": "9fb325331a1e"
      },
      "source": [
        "## End-to-end example: a GAN training loop from scratch\n",
        "\n",
        "You may be familiar with Generative Adversarial Networks (GANs). GANs can generate new\n",
        "images that look almost real, by learning the latent distribution of a training\n",
        "dataset of images (the \"latent space\" of the images).\n",
        "\n",
        "A GAN is made of two parts: a \"generator\" model that maps points in the latent\n",
        "space to points in image space, a \"discriminator\" model, a classifier\n",
        "that can tell the difference between real images (from the training dataset)\n",
        "and fake images (the output of the generator network).\n",
        "\n",
        "A GAN training loop looks like this:\n",
        "\n",
        "1) Train the discriminator.\n",
        "- Sample a batch of random points in the latent space.\n",
        "- Turn the points into fake images via the \"generator\" model.\n",
        "- Get a batch of real images and combine them with the generated images.\n",
        "- Train the \"discriminator\" model to classify generated vs. real images.\n",
        "\n",
        "2) Train the generator.\n",
        "- Sample random points in the latent space.\n",
        "- Turn the points into fake images via the \"generator\" network.\n",
        "- Get a batch of real images and combine them with the generated images.\n",
        "- Train the \"generator\" model to \"fool\" the discriminator and classify the fake images\n",
        "as real.\n",
        "\n",
        "For a much more detailed overview of how GANs works, see\n",
        "[Deep Learning with Python](https://www.manning.com/books/deep-learning-with-python).\n",
        "\n",
        "Let's implement this training loop. First, create the discriminator meant to classify\n",
        "fake vs real digits:"
      ]
    },
    {
      "cell_type": "code",
      "metadata": {
        "id": "fabf9cef3400",
        "colab": {
          "base_uri": "https://localhost:8080/"
        },
        "outputId": "086f50c4-87d4-442c-c103-389e465c2e9f"
      },
      "source": [
        "discriminator = keras.Sequential(\n",
        "    [\n",
        "        keras.Input(shape=(28, 28, 1)),\n",
        "        layers.Conv2D(64, (3, 3), strides=(2, 2), padding=\"same\"),\n",
        "        layers.LeakyReLU(alpha=0.2),\n",
        "        layers.Conv2D(128, (3, 3), strides=(2, 2), padding=\"same\"),\n",
        "        layers.LeakyReLU(alpha=0.2),\n",
        "        layers.GlobalMaxPooling2D(),\n",
        "        layers.Dense(1),\n",
        "    ],\n",
        "    name=\"discriminator\",\n",
        ")\n",
        "discriminator.summary()"
      ],
      "execution_count": null,
      "outputs": [
        {
          "output_type": "stream",
          "text": [
            "Model: \"discriminator\"\n",
            "_________________________________________________________________\n",
            "Layer (type)                 Output Shape              Param #   \n",
            "=================================================================\n",
            "conv2d (Conv2D)              (None, 14, 14, 64)        640       \n",
            "_________________________________________________________________\n",
            "leaky_re_lu (LeakyReLU)      (None, 14, 14, 64)        0         \n",
            "_________________________________________________________________\n",
            "conv2d_1 (Conv2D)            (None, 7, 7, 128)         73856     \n",
            "_________________________________________________________________\n",
            "leaky_re_lu_1 (LeakyReLU)    (None, 7, 7, 128)         0         \n",
            "_________________________________________________________________\n",
            "global_max_pooling2d (Global (None, 128)               0         \n",
            "_________________________________________________________________\n",
            "dense_2 (Dense)              (None, 1)                 129       \n",
            "=================================================================\n",
            "Total params: 74,625\n",
            "Trainable params: 74,625\n",
            "Non-trainable params: 0\n",
            "_________________________________________________________________\n"
          ],
          "name": "stdout"
        }
      ]
    },
    {
      "cell_type": "markdown",
      "metadata": {
        "id": "73396eb6daf9"
      },
      "source": [
        "Then let's create a generator network,\n",
        "that turns latent vectors into outputs of shape `(28, 28, 1)` (representing\n",
        "MNIST digits):"
      ]
    },
    {
      "cell_type": "code",
      "metadata": {
        "id": "821d203bfb3e"
      },
      "source": [
        "latent_dim = 128\n",
        "\n",
        "generator = keras.Sequential(\n",
        "    [\n",
        "        keras.Input(shape=(latent_dim,)),\n",
        "        # We want to generate 128 coefficients to reshape into a 7x7x128 map\n",
        "        layers.Dense(7 * 7 * 128),\n",
        "        layers.LeakyReLU(alpha=0.2),\n",
        "        layers.Reshape((7, 7, 128)),\n",
        "        layers.Conv2DTranspose(128, (4, 4), strides=(2, 2), padding=\"same\"),\n",
        "        layers.LeakyReLU(alpha=0.2),\n",
        "        layers.Conv2DTranspose(128, (4, 4), strides=(2, 2), padding=\"same\"),\n",
        "        layers.LeakyReLU(alpha=0.2),\n",
        "        layers.Conv2D(1, (7, 7), padding=\"same\", activation=\"sigmoid\"),\n",
        "    ],\n",
        "    name=\"generator\",\n",
        ")"
      ],
      "execution_count": null,
      "outputs": []
    },
    {
      "cell_type": "markdown",
      "metadata": {
        "id": "f0d6d54a78a0"
      },
      "source": [
        "Here's the key bit: the training loop. As you can see it is quite straightforward. The\n",
        "training step function only takes 17 lines."
      ]
    },
    {
      "cell_type": "code",
      "metadata": {
        "id": "3a11c875142e"
      },
      "source": [
        "# Instantiate one optimizer for the discriminator and another for the generator.\n",
        "d_optimizer = keras.optimizers.Adam(learning_rate=0.0003)\n",
        "g_optimizer = keras.optimizers.Adam(learning_rate=0.0004)\n",
        "\n",
        "# Instantiate a loss function.\n",
        "loss_fn = keras.losses.BinaryCrossentropy(from_logits=True)\n",
        "\n",
        "\n",
        "@tf.function\n",
        "def train_step(real_images):\n",
        "    # Sample random points in the latent space\n",
        "    random_latent_vectors = tf.random.normal(shape=(batch_size, latent_dim))\n",
        "    # Decode them to fake images\n",
        "    generated_images = generator(random_latent_vectors)\n",
        "    # Combine them with real images\n",
        "    combined_images = tf.concat([generated_images, real_images], axis=0)\n",
        "\n",
        "    # Assemble labels discriminating real from fake images\n",
        "    labels = tf.concat(\n",
        "        [tf.ones((batch_size, 1)), tf.zeros((real_images.shape[0], 1))], axis=0\n",
        "    )\n",
        "    # Add random noise to the labels - important trick!\n",
        "    labels += 0.05 * tf.random.uniform(labels.shape)\n",
        "\n",
        "    # Train the discriminator\n",
        "    with tf.GradientTape() as tape:\n",
        "        predictions = discriminator(combined_images)\n",
        "        d_loss = loss_fn(labels, predictions)\n",
        "    grads = tape.gradient(d_loss, discriminator.trainable_weights)\n",
        "    d_optimizer.apply_gradients(zip(grads, discriminator.trainable_weights))\n",
        "\n",
        "    # Sample random points in the latent space\n",
        "    random_latent_vectors = tf.random.normal(shape=(batch_size, latent_dim))\n",
        "    # Assemble labels that say \"all real images\"\n",
        "    misleading_labels = tf.zeros((batch_size, 1))\n",
        "\n",
        "    # Train the generator (note that we should *not* update the weights\n",
        "    # of the discriminator)!\n",
        "    with tf.GradientTape() as tape:\n",
        "        predictions = discriminator(generator(random_latent_vectors))\n",
        "        g_loss = loss_fn(misleading_labels, predictions)\n",
        "    grads = tape.gradient(g_loss, generator.trainable_weights)\n",
        "    g_optimizer.apply_gradients(zip(grads, generator.trainable_weights))\n",
        "    return d_loss, g_loss, generated_images\n"
      ],
      "execution_count": null,
      "outputs": []
    },
    {
      "cell_type": "markdown",
      "metadata": {
        "id": "fa6bd6292488"
      },
      "source": [
        "Let's train our GAN, by repeatedly calling `train_step` on batches of images.\n",
        "\n",
        "Since our discriminator and generator are convnets, you're going to want to\n",
        "run this code on a GPU."
      ]
    },
    {
      "cell_type": "code",
      "metadata": {
        "id": "b6a4e3d42262",
        "colab": {
          "base_uri": "https://localhost:8080/"
        },
        "outputId": "3707a64a-982f-4543-8b91-3f5195d8b983"
      },
      "source": [
        "import os\n",
        "\n",
        "# Prepare the dataset. We use both the training & test MNIST digits.\n",
        "batch_size = 64\n",
        "(x_train, _), (x_test, _) = keras.datasets.mnist.load_data()\n",
        "all_digits = np.concatenate([x_train, x_test])\n",
        "all_digits = all_digits.astype(\"float32\") / 255.0\n",
        "all_digits = np.reshape(all_digits, (-1, 28, 28, 1))\n",
        "dataset = tf.data.Dataset.from_tensor_slices(all_digits)\n",
        "dataset = dataset.shuffle(buffer_size=1024).batch(batch_size)\n",
        "\n",
        "epochs = 1  # In practice you need at least 20 epochs to generate nice digits.\n",
        "save_dir = \"./\"\n",
        "\n",
        "for epoch in range(epochs):\n",
        "    print(\"\\nStart epoch\", epoch)\n",
        "\n",
        "    for step, real_images in enumerate(dataset):\n",
        "        # Train the discriminator & generator on one batch of real images.\n",
        "        d_loss, g_loss, generated_images = train_step(real_images)\n",
        "\n",
        "        # Logging.\n",
        "        if step % 200 == 0:\n",
        "            # Print metrics\n",
        "            print(\"discriminator loss at step %d: %.2f\" % (step, d_loss))\n",
        "            print(\"adversarial loss at step %d: %.2f\" % (step, g_loss))\n",
        "\n",
        "            # Save one generated image\n",
        "            img = tf.keras.preprocessing.image.array_to_img(\n",
        "                generated_images[0] * 255.0, scale=False\n",
        "            )\n",
        "            img.save(os.path.join(save_dir, \"generated_img\" + str(step) + \".png\"))\n",
        "\n",
        "        # To limit execution time we stop after 10 steps.\n",
        "        # Remove the lines below to actually train the model!\n",
        "        if step > 10:\n",
        "            break"
      ],
      "execution_count": null,
      "outputs": [
        {
          "output_type": "stream",
          "text": [
            "\n",
            "Start epoch 0\n",
            "discriminator loss at step 0: 0.69\n",
            "adversarial loss at step 0: 0.70\n"
          ],
          "name": "stdout"
        }
      ]
    },
    {
      "cell_type": "markdown",
      "metadata": {
        "id": "a92959ac630b"
      },
      "source": [
        "That's it! You'll get nice-looking fake MNIST digits after just ~30s of training on the\n",
        "Colab GPU."
      ]
    }
  ]
}